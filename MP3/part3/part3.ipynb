{
 "cells": [
  {
   "cell_type": "markdown",
   "metadata": {},
   "source": [
    "# Single-View Geometry (Python)\n",
    "\n",
    "## Usage\n",
    "This code snippet provides an overall code structure and some interactive plot interfaces for the *Single-View Geometry* section of Assignment 3. In [main function](#Main-function), we outline the required functionalities step by step. Some of the functions which involves interactive plots are already provided, but [the rest](#Your-implementation) are left for you to implement.\n",
    "\n",
    "## Package installation\n",
    "- You will need [GUI backend](https://matplotlib.org/faq/usage_faq.html#what-is-a-backend) to enable interactive plots in `matplotlib`.\n",
    "- In this code, we use `tkinter` package. Installation instruction can be found [here](https://anaconda.org/anaconda/tk)."
   ]
  },
  {
   "cell_type": "markdown",
   "metadata": {},
   "source": [
    "# Common imports"
   ]
  },
  {
   "cell_type": "code",
   "execution_count": 2,
   "metadata": {},
   "outputs": [],
   "source": [
    "% matplotlib tk\n",
    "import matplotlib.pyplot as plt\n",
    "import numpy as np\n",
    "import numpy.linalg as nl\n",
    "\n",
    "from PIL import Image"
   ]
  },
  {
   "cell_type": "markdown",
   "metadata": {},
   "source": [
    "# Provided functions"
   ]
  },
  {
   "cell_type": "code",
   "execution_count": 3,
   "metadata": {},
   "outputs": [],
   "source": [
    "def get_input_lines(im, min_lines=3):\n",
    "    \"\"\"\n",
    "    Allows user to input line segments; computes centers and directions.\n",
    "    Inputs:\n",
    "        im: np.ndarray of shape (height, width, 3)\n",
    "        min_lines: minimum number of lines required\n",
    "    Returns:\n",
    "        n: number of lines from input\n",
    "        lines: np.ndarray of shape (3, n)\n",
    "            where each column denotes the parameters of the line equation\n",
    "        centers: np.ndarray of shape (3, n)\n",
    "            where each column denotes the homogeneous coordinates of the centers\n",
    "    \"\"\"\n",
    "    n = 0\n",
    "    lines = np.zeros((3, 0))\n",
    "    centers = np.zeros((3, 0))\n",
    "\n",
    "    plt.figure()\n",
    "    plt.imshow(im)\n",
    "    print('Set at least %d lines to compute vanishing point' % min_lines)\n",
    "    while True:\n",
    "        print('Click the two endpoints, use the right key to undo, and use the middle key to stop input')\n",
    "        clicked = plt.ginput(2, timeout=0, show_clicks=True)\n",
    "        if not clicked or len(clicked) < 2:\n",
    "            if n < min_lines:\n",
    "                print('Need at least %d lines, you have %d now' % (min_lines, n))\n",
    "                continue\n",
    "            else:\n",
    "                # Stop getting lines if number of lines is enough\n",
    "                break\n",
    "\n",
    "        # Unpack user inputs and save as homogeneous coordinates\n",
    "        pt1 = np.array([clicked[0][0], clicked[0][1], 1])\n",
    "        pt2 = np.array([clicked[1][0], clicked[1][1], 1])\n",
    "        # Get line equation using cross product\n",
    "        # Line equation: line[0] * x + line[1] * y + line[2] = 0\n",
    "        line = np.cross(pt1, pt2)\n",
    "        lines = np.append(lines, line.reshape((3, 1)), axis=1)\n",
    "        # Get center coordinate of the line segment\n",
    "        center = (pt1 + pt2) / 2\n",
    "        centers = np.append(centers, center.reshape((3, 1)), axis=1)\n",
    "\n",
    "        # Plot line segment\n",
    "        plt.plot([pt1[0], pt2[0]], [pt1[1], pt2[1]], color='b')\n",
    "\n",
    "        n += 1\n",
    "\n",
    "    return n, lines, centers"
   ]
  },
  {
   "cell_type": "code",
   "execution_count": 4,
   "metadata": {},
   "outputs": [],
   "source": [
    "def plot_lines_and_vp(im, lines, vp):\n",
    "    \"\"\"\n",
    "    Plots user-input lines and the calculated vanishing point.\n",
    "    Inputs:\n",
    "        im: np.ndarray of shape (height, width, 3)\n",
    "        lines: np.ndarray of shape (3, n)\n",
    "            where each column denotes the parameters of the line equation\n",
    "        vp: np.ndarray of shape (3, )\n",
    "    \"\"\"\n",
    "    bx1 = min(1, vp[0] / vp[2]) - 10\n",
    "    bx2 = max(im.shape[1], vp[0] / vp[2]) + 10\n",
    "    by1 = min(1, vp[1] / vp[2]) - 10\n",
    "    by2 = max(im.shape[0], vp[1] / vp[2]) + 10\n",
    "\n",
    "    plt.figure()\n",
    "    plt.imshow(im)\n",
    "    for i in range(lines.shape[1]):\n",
    "        if lines[0, i] < lines[1, i]:\n",
    "            pt1 = np.cross(np.array([1, 0, -bx1]), lines[:, i])\n",
    "            pt2 = np.cross(np.array([1, 0, -bx2]), lines[:, i])\n",
    "        else:\n",
    "            pt1 = np.cross(np.array([0, 1, -by1]), lines[:, i])\n",
    "            pt2 = np.cross(np.array([0, 1, -by2]), lines[:, i])\n",
    "        pt1 = pt1 / pt1[2]\n",
    "        pt2 = pt2 / pt2[2]\n",
    "        plt.plot([pt1[0], pt2[0]], [pt1[1], pt2[1]], 'g')\n",
    "\n",
    "    plt.plot(vp[0] / vp[2], vp[1] / vp[2], 'ro')\n",
    "    plt.show()"
   ]
  },
  {
   "cell_type": "code",
   "execution_count": 5,
   "metadata": {},
   "outputs": [],
   "source": [
    "def get_top_and_bottom_coordinates(im, obj):\n",
    "    \"\"\"\n",
    "    For a specific object, prompts user to record the top coordinate and the bottom coordinate in the image.\n",
    "    Inputs:\n",
    "        im: np.ndarray of shape (height, width, 3)\n",
    "        obj: string, object name\n",
    "    Returns:\n",
    "        coord: np.ndarray of shape (3, 2)\n",
    "            where coord[:, 0] is the homogeneous coordinate of the top of the object and coord[:, 1] is the homogeneous\n",
    "            coordinate of the bottom\n",
    "    \"\"\"\n",
    "    plt.figure()\n",
    "    plt.imshow(im)\n",
    "\n",
    "    print('Click on the top coordinate of %s' % obj)\n",
    "    clicked = plt.ginput(1, timeout=0, show_clicks=True)\n",
    "    x1, y1 = clicked[0]\n",
    "    # Uncomment this line to enable a vertical line to help align the two coordinates\n",
    "    # plt.plot([x1, x1], [0, im.shape[0]], 'b')\n",
    "    print('Click on the bottom coordinate of %s' % obj)\n",
    "    clicked = plt.ginput(1, timeout=0, show_clicks=True)\n",
    "    x2, y2 = clicked[0]\n",
    "\n",
    "    plt.plot([x1, x2], [y1, y2], 'b')\n",
    "\n",
    "    return np.array([[x1, x2], [y1, y2], [1, 1]])"
   ]
  },
  {
   "cell_type": "code",
   "execution_count": 6,
   "metadata": {},
   "outputs": [],
   "source": [
    "# get_input_lines(np.random.rand(500,500))"
   ]
  },
  {
   "cell_type": "markdown",
   "metadata": {},
   "source": [
    "# Your implementation"
   ]
  },
  {
   "cell_type": "code",
   "execution_count": 7,
   "metadata": {},
   "outputs": [],
   "source": [
    "def get_vanishing_point(lines):\n",
    "    num_lines = len(lines)\n",
    "    itsec = np.array([0.0, 0.0, 0.0])\n",
    "    for i in range(num_lines):\n",
    "        for j in range(i):\n",
    "            if i == j:\n",
    "                continue\n",
    "            cur_pred = np.cross(lines[i], lines[j])\n",
    "            cur_pred /= cur_pred[-1]\n",
    "            itsec += cur_pred\n",
    "    itsec /= num_lines * (num_lines-1) / 2\n",
    "\n",
    "    return itsec / itsec[-1]    "
   ]
  },
  {
   "cell_type": "code",
   "execution_count": 8,
   "metadata": {},
   "outputs": [],
   "source": [
    "def get_horizon_line(vpts):\n",
    "    p1, p2, p3 = vpts[:,0], vpts[:,1], vpts[:,2]\n",
    "    if(abs(p1[1]) > 2000):\n",
    "        # print('2,3:',p2,p3,np.cross(p2, p3))\n",
    "        return np.cross(p2, p3)\n",
    "    if(abs(p2[1]) > 2000):\n",
    "        # print('1,3:',p2,p3,np.cross(p1, p3))\n",
    "        return np.cross(p1, p3)\n",
    "    if(abs(p3[1]) > 2000):\n",
    "        # print('1,2:',p2,p3,np.cross(p1, p2))\n",
    "        return np.cross(p1, p2)\n",
    "    return np.ones(3)"
   ]
  },
  {
   "cell_type": "code",
   "execution_count": 9,
   "metadata": {},
   "outputs": [],
   "source": [
    "def plot_horizon_line(im, line):\n",
    "    a, b, c = line[0], line[1], line[2]\n",
    "    plt.figure()\n",
    "    plt.imshow(im)\n",
    "#     print('hi', line)\n",
    "#     print([int(-c/a), int(-(c+1023*b)/a)])\n",
    "    plt.plot([0, 1023], [(int(-c/b)), (int(-(c+1023*a)/b))], 'b')\n",
    "    plt.show()"
   ]
  },
  {
   "cell_type": "code",
   "execution_count": 10,
   "metadata": {},
   "outputs": [],
   "source": [
    "def get_camera_parameters(vpts):\n",
    "    [xi, yi, _], [xj, yj, _], [xk, yk, _] = vpts[:,0]/vpts[:,0][-1], vpts[:,1]/vpts[:,1][-1],vpts[:,2]/ vpts[:,2][-1]\n",
    "    c11, c12, c13 = xi*xj + yi*yj, xi + xj, yi + yj\n",
    "    c21, c22, c23 = xi*xk + yi*yk, xi + xk, yi + yk\n",
    "    c31, c32, c33 = xk*xj + yk*yj, xk + xj, yk + yj\n",
    "    \n",
    "    eq = np.append((np.array([c11, c12, c13]) - np.array([c21, c22, c23])).reshape(1,3),\n",
    "             (np.array([c21, c22, c23]) - np.array([c31, c32, c33])).reshape(1,3), axis=0)\n",
    "        \n",
    "    A, b = eq[:,1:], eq[:,0]\n",
    "    u, v = nl.solve(A, b)\n",
    "    f = np.sqrt(c12*u + c13*v - c11 - u*u - v*v)\n",
    "    \n",
    "    print(\"f, u, v: \",f, u, v)\n",
    "    return f, u, v"
   ]
  },
  {
   "cell_type": "code",
   "execution_count": 11,
   "metadata": {},
   "outputs": [],
   "source": [
    "def get_rotation_matrix(K, vpts):\n",
    "    R = np.zeros((3,3))\n",
    "    p1, p2, p3 = vpts[:,0], vpts[:,1], vpts[:,2]\n",
    "    p1, p2, p3 = p1/p1[-1], p2/p2[-1], p3/p3[-1]\n",
    "    \n",
    "    xs = np.array([p1[0], p2[0], p3[0]])\n",
    "    ys = np.array([p1[1], p2[1], p3[1]])\n",
    "    \n",
    "    arg_x, arg_y, arg_z = np.argmax(xs), np.argmax(np.abs(ys)), np.argmin(xs)\n",
    "    assert(arg_x != arg_y and arg_x != arg_z and arg_z != arg_y)\n",
    "    \n",
    "    sorted_vpts = vpts[:,np.array([arg_x, arg_y, arg_z])]\n",
    "    # print(\"Sorted: \",sorted_vpts)\n",
    "    R = nl.inv(K) @ sorted_vpts\n",
    "    R = R / nl.norm(R, axis=0)\n",
    "\n",
    "    return R, sorted_vpts"
   ]
  },
  {
   "cell_type": "code",
   "execution_count": 12,
   "metadata": {},
   "outputs": [],
   "source": [
    "def estimate_height(vpt, ref, target, horizon_line):\n",
    "    # ref, tar are of [3,2], top and bottom homo points.\n",
    "    rtop, rbot = ref[:, 0], ref[:, 1]\n",
    "    ttop, tbot = target[:, 0], target[:, 1]\n",
    "    \n",
    "    bb_line = np.cross(rbot, tbot)\n",
    "    v = np.cross(bb_line, horizon_line)\n",
    "    v = v / v[-1]\n",
    "    \n",
    "    t = np.cross(np.cross(v, rtop), np.cross(ttop, tbot))\n",
    "    t = t / t[-1]\n",
    "    \n",
    "    h_over_r = nl.norm(t[:2] - tbot[:2]) / nl.norm(ttop[:2] - tbot[:2])\n",
    "    print(\"H/R\", h_over_r)\n",
    "    \n",
    "    len_r = 66 # inches\n",
    "    len_t = len_r / h_over_r\n",
    "    \n",
    "    return len_t"
   ]
  },
  {
   "cell_type": "markdown",
   "metadata": {},
   "source": [
    "# Main function"
   ]
  },
  {
   "cell_type": "code",
   "execution_count": 13,
   "metadata": {},
   "outputs": [
    {
     "name": "stdout",
     "output_type": "stream",
     "text": [
      "Getting vanishing point 0\n",
      "Set at least 3 lines to compute vanishing point\n",
      "Click the two endpoints, use the right key to undo, and use the middle key to stop input\n",
      "Click the two endpoints, use the right key to undo, and use the middle key to stop input\n",
      "Click the two endpoints, use the right key to undo, and use the middle key to stop input\n",
      "Click the two endpoints, use the right key to undo, and use the middle key to stop input\n",
      "Getting vanishing point 1\n",
      "Set at least 3 lines to compute vanishing point\n",
      "Click the two endpoints, use the right key to undo, and use the middle key to stop input\n",
      "Click the two endpoints, use the right key to undo, and use the middle key to stop input\n",
      "Click the two endpoints, use the right key to undo, and use the middle key to stop input\n",
      "Click the two endpoints, use the right key to undo, and use the middle key to stop input\n",
      "Getting vanishing point 2\n",
      "Set at least 3 lines to compute vanishing point\n",
      "Click the two endpoints, use the right key to undo, and use the middle key to stop input\n",
      "Click the two endpoints, use the right key to undo, and use the middle key to stop input\n",
      "Click the two endpoints, use the right key to undo, and use the middle key to stop input\n",
      "Click the two endpoints, use the right key to undo, and use the middle key to stop input\n",
      "vpts:  [[ 5.53858069e+02  3.81861471e+02  7.29792156e+02]\n",
      " [-2.23137936e+03  1.20074726e+03  1.25297512e+03]\n",
      " [ 1.00000000e+00  1.00000000e+00  1.00000000e+00]]\n",
      "Horizon line is:  [-1.48446810e-01  9.88920393e-01 -1.13075734e+03]\n",
      "f, u, v:  nan 36.040517714380876 1218.2086554434377\n",
      "R is:  [[nan nan nan]\n",
      " [nan nan nan]\n",
      " [nan nan nan]]\n",
      "Click on the top coordinate of person\n"
     ]
    },
    {
     "name": "stderr",
     "output_type": "stream",
     "text": [
      "/Library/Frameworks/Python.framework/Versions/3.6/lib/python3.6/site-packages/ipykernel_launcher.py:12: RuntimeWarning: invalid value encountered in sqrt\n",
      "  if sys.path[0] == '':\n"
     ]
    },
    {
     "name": "stdout",
     "output_type": "stream",
     "text": [
      "Click on the bottom coordinate of person\n",
      "Click on the top coordinate of CSL building\n",
      "Click on the bottom coordinate of CSL building\n",
      "Click on the top coordinate of the spike statue\n",
      "Click on the bottom coordinate of the spike statue\n",
      "Click on the top coordinate of the lamp posts\n",
      "Click on the bottom coordinate of the lamp posts\n",
      "Estimating height of CSL building\n",
      "H/R 0.011490524149493257\n",
      "CSL building is 5743 inches, which is 478'7\n",
      "Estimating height of the spike statue\n",
      "H/R 0.013222617631819892\n",
      "the spike statue is 4991 inches, which is 415'11\n",
      "Estimating height of the lamp posts\n",
      "H/R 0.17906012277636768\n",
      "the lamp posts is 368 inches, which is 30'8\n"
     ]
    }
   ],
   "source": [
    "im = np.asarray(Image.open('mypic.jpg'))\n",
    "# Part 1\n",
    "# Get vanishing points for each of the directions\n",
    "num_vpts = 3\n",
    "vpts = np.zeros((3, num_vpts))\n",
    "for i in range(num_vpts):\n",
    "    print('Getting vanishing point %d' % i)\n",
    "    # Get at least three lines from user input\n",
    "    n, lines, centers = get_input_lines(im)\n",
    "    # <YOUR IMPLEMENTATION> Solve for vanishing point\n",
    "    vpts[:, i] = get_vanishing_point(lines.T)\n",
    "    # Plot the lines and the vanishing point\n",
    "    plot_lines_and_vp(im, lines, vpts[:, i])\n",
    "    \n",
    "print(\"vpts: \", vpts)\n",
    "# <YOUR IMPLEMENTATION> Get the ground horizon line\n",
    "horizon_line = get_horizon_line(vpts)\n",
    "horizon_line /= np.sqrt(horizon_line[0] ** 2 + horizon_line[1] ** 2)\n",
    "# <YOUR IMPLEMENTATION> Plot the ground horizon line\n",
    "print('Horizon line is: ',horizon_line)\n",
    "plot_horizon_line(im, horizon_line)\n",
    "\n",
    "# Part 2\n",
    "# <YOUR IMPLEMENTATION> Solve for the camera parameters (f, u, v)\n",
    "f, u, v = get_camera_parameters(vpts)\n",
    "K = np.eye(3)\n",
    "K[0][0], K[1][1], K[0][2], K[1][2] = 1/f, 1/f, u, v\n",
    "\n",
    "# Part 3\n",
    "# <YOUR IMPLEMENTATION> Solve for the rotation matrix\n",
    "R, vpts = get_rotation_matrix(K, vpts)\n",
    "print(\"R is: \",R)\n",
    "# vpts here are sorted, X right most, Y vertcal, Z left most\n",
    "\n",
    "# Part 4\n",
    "# Record image coordinates for each object and store in map\n",
    "objects = ('person', 'CSL building', 'the spike statue', 'the lamp posts')\n",
    "coords = dict()\n",
    "for obj in objects:\n",
    "    coords[obj] = get_top_and_bottom_coordinates(im, obj)\n",
    "\n",
    "# <YOUR IMPLEMENTATION> Estimate heights\n",
    "for obj in objects[1:]:\n",
    "    print('Estimating height of %s' % obj)\n",
    "    height = estimate_height(vpts[:,1], coords[objects[0]], coords[obj], horizon_line)\n",
    "    print(obj + \" is \" + str(int(height)) + \" inches, which is \" + str(int(height / 12)) + \"\\'\" + str(int(height % 12)))\n"
   ]
  },
  {
   "cell_type": "code",
   "execution_count": null,
   "metadata": {},
   "outputs": [],
   "source": []
  },
  {
   "cell_type": "code",
   "execution_count": null,
   "metadata": {},
   "outputs": [],
   "source": []
  }
 ],
 "metadata": {
  "kernelspec": {
   "display_name": "Python 3",
   "language": "python",
   "name": "python3"
  },
  "language_info": {
   "codemirror_mode": {
    "name": "ipython",
    "version": 3
   },
   "file_extension": ".py",
   "mimetype": "text/x-python",
   "name": "python",
   "nbconvert_exporter": "python",
   "pygments_lexer": "ipython3",
   "version": "3.6.4"
  }
 },
 "nbformat": 4,
 "nbformat_minor": 2
}
